{
  "nbformat": 4,
  "nbformat_minor": 0,
  "metadata": {
    "colab": {
      "provenance": []
    },
    "kernelspec": {
      "name": "python3",
      "display_name": "Python 3"
    },
    "language_info": {
      "name": "python"
    }
  },
  "cells": [
    {
      "cell_type": "code",
      "execution_count": null,
      "metadata": {
        "colab": {
          "base_uri": "https://localhost:8080/",
          "height": 53
        },
        "id": "foti_tw3-hZA",
        "outputId": "06dcc012-0465-412e-84a9-892bd674126d"
      },
      "outputs": [
        {
          "output_type": "execute_result",
          "data": {
            "text/plain": [
              "'Write a Python function to accept a string value from the user and display the\\ncount of each character in that string. Sample input: Enter a string value:\\nassembly Sample output: a=1, s=2, e=1, m=1, b=1, l=1, y=1 '"
            ],
            "application/vnd.google.colaboratory.intrinsic+json": {
              "type": "string"
            }
          },
          "metadata": {},
          "execution_count": 1
        }
      ],
      "source": [
        "'''Write a Python function to accept a string value from the user and display the\n",
        "count of each character in that string. Sample input: Enter a string value:\n",
        "assembly Sample output: a=1, s=2, e=1, m=1, b=1, l=1, y=1 '''"
      ]
    },
    {
      "cell_type": "code",
      "source": [
        "def count(n):\n",
        "  letters=0\n",
        "  for char in n:\n",
        "    if char (\"abcdefghijklmnopqrstuvwxyzABCDEFGHIJKLMNOPQRSTUVWXYZ\"):\n",
        "      letters += 1\n",
        "\n",
        "x=int(input('Enter the string: '))\n",
        "\n"
      ],
      "metadata": {
        "id": "ir5ru-jS-xcv",
        "colab": {
          "base_uri": "https://localhost:8080/",
          "height": 211
        },
        "outputId": "81ae5851-02f6-4a03-87e2-559f6ea566fe"
      },
      "execution_count": 41,
      "outputs": [
        {
          "name": "stdout",
          "output_type": "stream",
          "text": [
            "Enter the string: george\n"
          ]
        },
        {
          "output_type": "error",
          "ename": "ValueError",
          "evalue": "invalid literal for int() with base 10: 'george'",
          "traceback": [
            "\u001b[0;31m---------------------------------------------------------------------------\u001b[0m",
            "\u001b[0;31mValueError\u001b[0m                                Traceback (most recent call last)",
            "\u001b[0;32m<ipython-input-41-977cc1f26711>\u001b[0m in \u001b[0;36m<cell line: 7>\u001b[0;34m()\u001b[0m\n\u001b[1;32m      5\u001b[0m       \u001b[0mletters\u001b[0m \u001b[0;34m+=\u001b[0m \u001b[0;36m1\u001b[0m\u001b[0;34m\u001b[0m\u001b[0;34m\u001b[0m\u001b[0m\n\u001b[1;32m      6\u001b[0m \u001b[0;34m\u001b[0m\u001b[0m\n\u001b[0;32m----> 7\u001b[0;31m \u001b[0mx\u001b[0m\u001b[0;34m=\u001b[0m\u001b[0mint\u001b[0m\u001b[0;34m(\u001b[0m\u001b[0minput\u001b[0m\u001b[0;34m(\u001b[0m\u001b[0;34m'Enter the string: '\u001b[0m\u001b[0;34m)\u001b[0m\u001b[0;34m)\u001b[0m\u001b[0;34m\u001b[0m\u001b[0;34m\u001b[0m\u001b[0m\n\u001b[0m\u001b[1;32m      8\u001b[0m \u001b[0;34m\u001b[0m\u001b[0m\n",
            "\u001b[0;31mValueError\u001b[0m: invalid literal for int() with base 10: 'george'"
          ]
        }
      ]
    },
    {
      "cell_type": "code",
      "source": [
        "'''Write a Python function to find the maximum of three numbers Sample input:\n",
        "34,12,7 Sample output: 34'''\n"
      ],
      "metadata": {
        "colab": {
          "base_uri": "https://localhost:8080/",
          "height": 35
        },
        "id": "G4J43v3oBjB-",
        "outputId": "8ace7c36-920b-4a20-e428-507de489ad0f"
      },
      "execution_count": null,
      "outputs": [
        {
          "output_type": "execute_result",
          "data": {
            "text/plain": [
              "'Write a Python function to find the maximum of three numbers Sample input:\\n34,12,7 Sample output: 34'"
            ],
            "application/vnd.google.colaboratory.intrinsic+json": {
              "type": "string"
            }
          },
          "metadata": {},
          "execution_count": 2
        }
      ]
    },
    {
      "cell_type": "code",
      "source": [
        "def findmax(a,b,c):\n",
        "  return max(a,b,c)\n",
        "a = float(input(\"Enter the first number: \"))\n",
        "b = float(input(\"Enter the second number: \"))\n",
        "c = float(input(\"Enter the third number: \"))\n",
        "if a>b and a>c:\n",
        "  print(a,'is the maximum')\n",
        "elif b>a and b>c:\n",
        "  print(b,'is the maximum')\n",
        "else:\n",
        "  print(c,'is the maximum')"
      ],
      "metadata": {
        "id": "7-OMmUt0BoXF",
        "colab": {
          "base_uri": "https://localhost:8080/"
        },
        "outputId": "f39973fe-66ce-4fc5-900a-484b43ea54fb"
      },
      "execution_count": 21,
      "outputs": [
        {
          "output_type": "stream",
          "name": "stdout",
          "text": [
            "Enter the first number: 24\n",
            "Enter the second number: 26\n",
            "Enter the third number: 45\n",
            "45.0 is the maximum\n"
          ]
        }
      ]
    },
    {
      "cell_type": "code",
      "source": [
        "'''Write a Python function called exponent(base,exp) that returns an integer\n",
        "value of base raises to the power of exp. Sample input: Enter the base: 2\n",
        "Enter the exponent: 3 Sample output: 8 '''"
      ],
      "metadata": {
        "colab": {
          "base_uri": "https://localhost:8080/",
          "height": 53
        },
        "id": "5_g0ELK0Y92Q",
        "outputId": "a42a2e9c-a761-4e43-963c-b291443ad379"
      },
      "execution_count": 22,
      "outputs": [
        {
          "output_type": "execute_result",
          "data": {
            "text/plain": [
              "'Write a Python function called exponent(base,exp) that returns an integer\\nvalue of base raises to the power of exp. Sample input: Enter the base: 2\\nEnter the exponent: 3 Sample output: 8 '"
            ],
            "application/vnd.google.colaboratory.intrinsic+json": {
              "type": "string"
            }
          },
          "metadata": {},
          "execution_count": 22
        }
      ]
    },
    {
      "cell_type": "code",
      "source": [
        "base=int(input('enter the base value'))\n",
        "exp=int(input('enter the exponent value'))\n",
        "def exponent(base,exp):\n",
        " return(base**exp)\n",
        "print(exponent(base,exp))"
      ],
      "metadata": {
        "colab": {
          "base_uri": "https://localhost:8080/"
        },
        "id": "Gr64656sdRsk",
        "outputId": "f89b40b7-0416-45b9-f395-5ad57c8c1a5f"
      },
      "execution_count": 24,
      "outputs": [
        {
          "output_type": "stream",
          "name": "stdout",
          "text": [
            "enter the base value3\n",
            "enter the exponent value2\n",
            "9\n"
          ]
        }
      ]
    },
    {
      "cell_type": "code",
      "source": [
        "'''Write a Python function that takes a positive integer and returns the sum of\n",
        "the cube of all the positive integers smaller than the specified number.\n",
        "Sample input: 4 Sample output: 36. '''"
      ],
      "metadata": {
        "colab": {
          "base_uri": "https://localhost:8080/",
          "height": 53
        },
        "id": "9BqEwDbEpBFH",
        "outputId": "389c83f9-5043-48c3-99b3-036e926d18a3"
      },
      "execution_count": 25,
      "outputs": [
        {
          "output_type": "execute_result",
          "data": {
            "text/plain": [
              "'Write a Python function that takes a positive integer and returns the sum of\\nthe cube of all the positive integers smaller than the specified number.\\nSample input: 4 Sample output: 36. '"
            ],
            "application/vnd.google.colaboratory.intrinsic+json": {
              "type": "string"
            }
          },
          "metadata": {},
          "execution_count": 25
        }
      ]
    },
    {
      "cell_type": "code",
      "source": [
        "c=float(input(\"Enter the celsius:\"))\n",
        "f = (c * 9/5) + 32\n",
        "print(\"The temperature in Fahrenheit is:\", f)"
      ],
      "metadata": {
        "colab": {
          "base_uri": "https://localhost:8080/"
        },
        "id": "I2jYQuxBpZDC",
        "outputId": "35fe5de8-27f5-4392-8cc8-889a2788b8b3"
      },
      "execution_count": 26,
      "outputs": [
        {
          "output_type": "stream",
          "name": "stdout",
          "text": [
            "Enter the celsius:4\n",
            "The temperature in Fahrenheit is: 39.2\n"
          ]
        }
      ]
    },
    {
      "cell_type": "code",
      "source": [
        "'''Write a Python program which iterates from 1 to 10. For multiples of 2, print\n",
        "“Fizz” instead of the number and for the multiples of 5, print “Buzz”. For\n",
        "numbers which are multiples of both 2 and 5, print “FizzBuzz”. Sample input:\n",
        "numbers from 1 to 10 Sample output: 1 Fizz 3 Fizz Buzz Fizz 7 Fizz 9\n",
        "FizzBuzz '''"
      ],
      "metadata": {
        "colab": {
          "base_uri": "https://localhost:8080/",
          "height": 53
        },
        "id": "ilIpnLa1ppx2",
        "outputId": "60bbbf13-3897-44be-dfd4-1ad8f1febb16"
      },
      "execution_count": 27,
      "outputs": [
        {
          "output_type": "execute_result",
          "data": {
            "text/plain": [
              "'Write a Python program which iterates from 1 to 10. For multiples of 2, print\\n“Fizz” instead of the number and for the multiples of 5, print “Buzz”. For\\nnumbers which are multiples of both 2 and 5, print “FizzBuzz”. Sample input:\\nnumbers from 1 to 10 Sample output: 1 Fizz 3 Fizz Buzz Fizz 7 Fizz 9\\nFizzBuzz '"
            ],
            "application/vnd.google.colaboratory.intrinsic+json": {
              "type": "string"
            }
          },
          "metadata": {},
          "execution_count": 27
        }
      ]
    },
    {
      "cell_type": "code",
      "source": [
        "for num in range(1,11):\n",
        "  print(num)\n",
        "  if num%2==num%5==0:\n",
        "    print('FizzBuzz')\n",
        "  elif num%2==0:\n",
        "    print('Fizz')\n",
        "  elif num%5==0:\n",
        "    print('Buzz')\n"
      ],
      "metadata": {
        "colab": {
          "base_uri": "https://localhost:8080/"
        },
        "id": "YObq0zHSpw-8",
        "outputId": "2fdb8084-969c-4494-daf7-5a9789e0e189"
      },
      "execution_count": 36,
      "outputs": [
        {
          "output_type": "stream",
          "name": "stdout",
          "text": [
            "1\n",
            "2\n",
            "Fizz\n",
            "3\n",
            "4\n",
            "Fizz\n",
            "5\n",
            "Buzz\n",
            "6\n",
            "Fizz\n",
            "7\n",
            "8\n",
            "Fizz\n",
            "9\n",
            "10\n",
            "FizzBuzz\n"
          ]
        }
      ]
    },
    {
      "cell_type": "code",
      "source": [
        "'''Write a Python function to find the sum of squares of the numbers in a list.\n",
        "Sample input: 2,1,3,1 Sample output: 15'''"
      ],
      "metadata": {
        "colab": {
          "base_uri": "https://localhost:8080/",
          "height": 35
        },
        "id": "oZsNb84nsG_9",
        "outputId": "39c71825-bf76-4872-b574-7e6958f1d8e8"
      },
      "execution_count": 37,
      "outputs": [
        {
          "output_type": "execute_result",
          "data": {
            "text/plain": [
              "'Write a Python function to find the sum of squares of the numbers in a list.\\nSample input: 2,1,3,1 Sample output: 15'"
            ],
            "application/vnd.google.colaboratory.intrinsic+json": {
              "type": "string"
            }
          },
          "metadata": {},
          "execution_count": 37
        }
      ]
    },
    {
      "cell_type": "code",
      "source": [
        "\n",
        "def sum_square(numbers):\n",
        "  sum_square = 0\n",
        "  for number in numbers:\n",
        "    sum_square += number**2\n",
        "  return sum_square"
      ],
      "metadata": {
        "id": "mcMUcnlQtvcT"
      },
      "execution_count": 38,
      "outputs": []
    },
    {
      "cell_type": "code",
      "source": [
        "number"
      ],
      "metadata": {
        "id": "daCr_dLbxjcV"
      },
      "execution_count": 38,
      "outputs": []
    },
    {
      "cell_type": "code",
      "source": [
        "'''Write a Python program using for loop that will iterate from 1 to 15. For each\n",
        "iteration, check if the current number is odd or even, and display the message\n",
        "to the screen as odd or even'''\n",
        "def evenodd(num):\n",
        "  if num%2==0:\n",
        "    value=\"even\"\n",
        "    return value\n",
        "  else:\n",
        "   value=\"odd\"\n",
        "   return value\n",
        "for i in range (1,16):\n",
        "  print(i,\"-\",evenodd(i))"
      ],
      "metadata": {
        "colab": {
          "base_uri": "https://localhost:8080/"
        },
        "id": "b3igUbVPyHbD",
        "outputId": "70a3a085-dcfc-4517-9ccb-1016e520df05"
      },
      "execution_count": 40,
      "outputs": [
        {
          "output_type": "stream",
          "name": "stdout",
          "text": [
            "1 - odd\n",
            "2 - even\n",
            "3 - odd\n",
            "4 - even\n",
            "5 - odd\n",
            "6 - even\n",
            "7 - odd\n",
            "8 - even\n",
            "9 - odd\n",
            "10 - even\n",
            "11 - odd\n",
            "12 - even\n",
            "13 - odd\n",
            "14 - even\n",
            "15 - odd\n"
          ]
        }
      ]
    },
    {
      "cell_type": "code",
      "source": [
        "'''12.Case Study: Student Record Management System\n",
        "In this case study, you will create a program that manages student records for\n",
        "a school or college. The program will allow the user (e.g., an administrator) to\n",
        "perform various operations on student data, such as adding new students,\n",
        "updating existing student information, and displaying student records.\n",
        "Requirements:\n",
        "1. The program should have a menu-driven interface that displays the\n",
        "following options:\n",
        "• Add a new student\n",
        "• Update student information\n",
        "• Display student records\n",
        "• Exit the program\n",
        "2. When adding a new student, the program should prompt the user to enter\n",
        "the following information:\n",
        "• Student ID (unique identifier)\n",
        "• Student name\n",
        "• Grade level (e.g., 9, 10, 11, 12)\n",
        "• GPA (Grade Point Average)\n",
        "3. When updating student information, the program should prompt the user\n",
        "to enter the student ID and then allow them to update the student's name,\n",
        "grade level, or GPA.\n",
        "4. When displaying student records, the program should provide options to:\n",
        "• Display all student records\n",
        "• Display records for a specific grade level\n",
        "• Display records for students with a GPA above a certain threshold\n",
        "5. The program should use appropriate data structures (e.g., lists,\n",
        "dictionaries) to store and manage student records.\n",
        "6. The program should have functions to perform the various operations\n",
        "(adding, updating, displaying) on student records.\n",
        "7. The program should handle errors and invalid inputs graceful'''"
      ],
      "metadata": {
        "id": "r8PwC7XRyIXi"
      },
      "execution_count": null,
      "outputs": []
    },
    {
      "cell_type": "code",
      "source": [
        "\n",
        "\n",
        "def display_student_records():\n",
        "    print(\"Displaying student records menu\")\n",
        "\n",
        "while True:\n",
        "    print(\"Enter (1) for Adding a new student\")\n",
        "    print(\"Enter (2) to Update student information\")\n",
        "    print(\"Enter (3) Display student records\")\n",
        "    print(\"Enter (4) Exit the program\")\n",
        "    n = input(\"Enter the number: \")\n",
        "\n",
        "    if n == '1':\n",
        "        add_new_student()\n",
        "\n",
        "        x = int(input(\"enter the name:\"))\n",
        "        print = x\n",
        "        break\n",
        "    elif n == '2':\n",
        "        update_student_information()\n",
        "        print(\"update information.\")\n",
        "        break\n",
        "    elif n == '3':\n",
        "        display_student_records()\n",
        "        break\n",
        "    elif n == '4':\n",
        "        print(\"Exiting the program.\")\n",
        "        break\n",
        "    else:\n",
        "        print(\"Invalid input! Please enter a number from 1 to 4.\")"
      ],
      "metadata": {
        "id": "wDV5QuAHzCp-"
      },
      "execution_count": null,
      "outputs": []
    }
  ]
}